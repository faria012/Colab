{
  "nbformat": 4,
  "nbformat_minor": 0,
  "metadata": {
    "colab": {
      "name": "if else statement in Python.ipynb",
      "provenance": [],
      "authorship_tag": "ABX9TyPEprMr1yyTg/dHKaWjdBQ6",
      "include_colab_link": true
    },
    "kernelspec": {
      "name": "python3",
      "display_name": "Python 3"
    },
    "language_info": {
      "name": "python"
    }
  },
  "cells": [
    {
      "cell_type": "markdown",
      "metadata": {
        "id": "view-in-github",
        "colab_type": "text"
      },
      "source": [
        "<a href=\"https://colab.research.google.com/github/faria012/Colab/blob/main/if_else_statement_in_Python.ipynb\" target=\"_parent\"><img src=\"https://colab.research.google.com/assets/colab-badge.svg\" alt=\"Open In Colab\"/></a>"
      ]
    },
    {
      "cell_type": "code",
      "execution_count": null,
      "metadata": {
        "id": "mGQTUcnTxi-8"
      },
      "outputs": [],
      "source": [
        ""
      ]
    },
    {
      "cell_type": "markdown",
      "source": [
        "Simple if else"
      ],
      "metadata": {
        "id": "Robrkro33HHH"
      }
    },
    {
      "cell_type": "code",
      "source": [
        "a = 20\n",
        "b = 50\n",
        "\n",
        "if(a>b):\n",
        "  print(\"a is the greatest number\")\n",
        "else:\n",
        "  print(\"b is the greatest number\")"
      ],
      "metadata": {
        "colab": {
          "base_uri": "https://localhost:8080/"
        },
        "id": "Z-XG8kuq3kvt",
        "outputId": "66d886a8-f88f-4f1b-8d76-8d142b99d204"
      },
      "execution_count": null,
      "outputs": [
        {
          "output_type": "stream",
          "name": "stdout",
          "text": [
            "b is the greatest number\n"
          ]
        }
      ]
    },
    {
      "cell_type": "code",
      "source": [
        "a = int(input(\"Enter the first number : \"))\n",
        "b = int(input(\"Enter the second number : \"))\n",
        "\n",
        "if(a>b):\n",
        "  print(\"a is the greatest number\")\n",
        "else:\n",
        "  print(\"b is the greatest number\")\n"
      ],
      "metadata": {
        "colab": {
          "base_uri": "https://localhost:8080/"
        },
        "id": "whICIiV236ni",
        "outputId": "6ddb5eff-c132-4bcc-f373-12875b00d7e0"
      },
      "execution_count": null,
      "outputs": [
        {
          "output_type": "stream",
          "name": "stdout",
          "text": [
            "Enter the first number : 40\n",
            "Enter the second number : 70\n",
            "b is the greatest number\n"
          ]
        }
      ]
    },
    {
      "cell_type": "markdown",
      "source": [
        "if elif else"
      ],
      "metadata": {
        "id": "TvNF6mgb9nMq"
      }
    },
    {
      "cell_type": "code",
      "source": [
        "a = 10\n",
        "b = 15\n",
        "c = 30\n",
        "\n",
        "if(b<a>c):\n",
        "  print(\"a is the greatest number\")\n",
        "elif(a<b>c):\n",
        "  print(\"b is the greatest number\")\n",
        "else:\n",
        "  print(\"c is the greatest number\")"
      ],
      "metadata": {
        "colab": {
          "base_uri": "https://localhost:8080/"
        },
        "id": "yRANA3SV9rdG",
        "outputId": "de88b990-3421-419d-c4c6-5c4f1c87c2ed"
      },
      "execution_count": null,
      "outputs": [
        {
          "output_type": "stream",
          "name": "stdout",
          "text": [
            "c is the greatest number\n"
          ]
        }
      ]
    },
    {
      "cell_type": "markdown",
      "source": [
        "nested if"
      ],
      "metadata": {
        "id": "8aNblJDD_B4J"
      }
    },
    {
      "cell_type": "code",
      "source": [
        "a = 20\n",
        "b = 30\n",
        "c = 40\n",
        "\n",
        "if(a>b):\n",
        "  if(a>c):\n",
        "    print(\"a is the greatest number\")\n",
        "  else:\n",
        "    print(\"c is the greatest number\")\n",
        "else:\n",
        "  if(b>c):\n",
        "    print(\"b is the greatest number\")\n",
        "  else:\n",
        "    print(\"c is the greatest number\")"
      ],
      "metadata": {
        "colab": {
          "base_uri": "https://localhost:8080/"
        },
        "id": "PSS2RQXN9Xkw",
        "outputId": "0fbb01f0-0fdf-4a8f-eb9c-3aee529afc53"
      },
      "execution_count": null,
      "outputs": [
        {
          "output_type": "stream",
          "name": "stdout",
          "text": [
            "c is the greatest number\n"
          ]
        }
      ]
    },
    {
      "cell_type": "code",
      "source": [
        ""
      ],
      "metadata": {
        "id": "_sczQvbdAGHo"
      },
      "execution_count": null,
      "outputs": []
    }
  ]
}