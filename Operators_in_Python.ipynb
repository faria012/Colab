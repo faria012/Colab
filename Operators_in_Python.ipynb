{
  "nbformat": 4,
  "nbformat_minor": 0,
  "metadata": {
    "colab": {
      "name": "Operators in Python.ipynb",
      "provenance": [],
      "authorship_tag": "ABX9TyMJRcagXLzd96taEposPXy8",
      "include_colab_link": true
    },
    "kernelspec": {
      "name": "python3",
      "display_name": "Python 3"
    },
    "language_info": {
      "name": "python"
    }
  },
  "cells": [
    {
      "cell_type": "markdown",
      "metadata": {
        "id": "view-in-github",
        "colab_type": "text"
      },
      "source": [
        "<a href=\"https://colab.research.google.com/github/faria012/Colab/blob/main/Operators_in_Python.ipynb\" target=\"_parent\"><img src=\"https://colab.research.google.com/assets/colab-badge.svg\" alt=\"Open In Colab\"/></a>"
      ]
    },
    {
      "cell_type": "code",
      "execution_count": null,
      "metadata": {
        "id": "ALRRrerpnsd7"
      },
      "outputs": [],
      "source": [
        ""
      ]
    },
    {
      "cell_type": "markdown",
      "source": [
        "Operators in Python\n",
        "  1.Arithmetic\n",
        "  2.Assignment\n",
        "  3.Comparison\n",
        "  4.Logical\n",
        "  5.Identity\n",
        "  6.Membership"
      ],
      "metadata": {
        "id": "IIeIC2HAnzzi"
      }
    },
    {
      "cell_type": "markdown",
      "source": [
        "#Arithmetic"
      ],
      "metadata": {
        "id": "fAXYw1gVoiUB"
      }
    },
    {
      "cell_type": "code",
      "source": [
        "num1 = 20\n",
        "num2 = 30\n",
        "\n",
        "#add\n",
        "sum = num1 + num2\n",
        "print('sum :',sum)\n",
        "\n",
        "#sub\n",
        "diff = num1 - num2\n",
        "print('difference :',diff)\n",
        "\n",
        "#mult\n",
        "pro = num1 * num2\n",
        "print('product :',pro)\n",
        "\n",
        "#div\n",
        "quo = num1 / num2\n",
        "print('quotient :',quo)\n",
        "\n",
        "#exponent\n",
        "exp = num1**num2  #20^30\n",
        "print('exponent :',exp)\n",
        "\n",
        "#mod\n",
        "mod = num1%num2\n",
        "print('modulus :',mod)\n"
      ],
      "metadata": {
        "colab": {
          "base_uri": "https://localhost:8080/"
        },
        "id": "JoVHkhNeoXSX",
        "outputId": "3b0332ad-00af-473c-bb87-bedf42fbd1c3"
      },
      "execution_count": null,
      "outputs": [
        {
          "output_type": "stream",
          "name": "stdout",
          "text": [
            "sum : 50\n",
            "difference : -10\n",
            "product : 600\n",
            "quotient : 0.6666666666666666\n",
            "exponent : 1073741824000000000000000000000000000000\n",
            "modulus : 20\n"
          ]
        }
      ]
    },
    {
      "cell_type": "markdown",
      "source": [
        "Assignment"
      ],
      "metadata": {
        "id": "hZFD2kkkrkvG"
      }
    },
    {
      "cell_type": "code",
      "source": [
        "a = 5\n",
        "print(a)"
      ],
      "metadata": {
        "colab": {
          "base_uri": "https://localhost:8080/"
        },
        "id": "UJnwlTTzqybX",
        "outputId": "df5a62ba-4f03-4481-a6ca-134e69792ace"
      },
      "execution_count": null,
      "outputs": [
        {
          "output_type": "stream",
          "name": "stdout",
          "text": [
            "5\n"
          ]
        }
      ]
    },
    {
      "cell_type": "code",
      "source": [
        "a = 5\n",
        "a += 5   # a = a+5\n",
        "print(a)"
      ],
      "metadata": {
        "colab": {
          "base_uri": "https://localhost:8080/"
        },
        "id": "O9tQVTrfrqcI",
        "outputId": "1751188d-eb23-4312-d515-6b387b666156"
      },
      "execution_count": null,
      "outputs": [
        {
          "output_type": "stream",
          "name": "stdout",
          "text": [
            "10\n"
          ]
        }
      ]
    },
    {
      "cell_type": "code",
      "source": [
        "b = 5\n",
        "b -= 2  # b = b - 2\n",
        "print(b)"
      ],
      "metadata": {
        "colab": {
          "base_uri": "https://localhost:8080/"
        },
        "id": "n7PHTHh4r1N0",
        "outputId": "e567091f-3947-4cc6-f1e0-449b267b17aa"
      },
      "execution_count": null,
      "outputs": [
        {
          "output_type": "stream",
          "name": "stdout",
          "text": [
            "3\n"
          ]
        }
      ]
    },
    {
      "cell_type": "code",
      "source": [
        "c = 5\n",
        "c *= 3   # c = c * 3\n",
        "print(c)"
      ],
      "metadata": {
        "colab": {
          "base_uri": "https://localhost:8080/"
        },
        "id": "ZT-9Uw1CsQap",
        "outputId": "e5864b2f-e255-4a09-c9f7-1e9fe3dd3fc6"
      },
      "execution_count": null,
      "outputs": [
        {
          "output_type": "stream",
          "name": "stdout",
          "text": [
            "15\n"
          ]
        }
      ]
    },
    {
      "cell_type": "code",
      "source": [
        "d = 5\n",
        "d **= 2  # d = d ^ 2\n",
        "print(d)"
      ],
      "metadata": {
        "colab": {
          "base_uri": "https://localhost:8080/"
        },
        "id": "MKtROLgysqf8",
        "outputId": "55c2617d-5410-4e36-9c50-6dfb300bff64"
      },
      "execution_count": null,
      "outputs": [
        {
          "output_type": "stream",
          "name": "stdout",
          "text": [
            "25\n"
          ]
        }
      ]
    },
    {
      "cell_type": "code",
      "source": [
        "e = 5\n",
        "e /= 2  # e = e / 2\n",
        "print(e)"
      ],
      "metadata": {
        "colab": {
          "base_uri": "https://localhost:8080/"
        },
        "id": "0XL4Byqqs2S0",
        "outputId": "9c45a680-fd98-4082-9f38-f8cd8f7cf267"
      },
      "execution_count": null,
      "outputs": [
        {
          "output_type": "stream",
          "name": "stdout",
          "text": [
            "2.5\n"
          ]
        }
      ]
    },
    {
      "cell_type": "code",
      "source": [
        "f = 5\n",
        "f %= 2   # f = f % 2\n",
        "print(f)"
      ],
      "metadata": {
        "colab": {
          "base_uri": "https://localhost:8080/"
        },
        "id": "xu12unVHtCud",
        "outputId": "3ae7b055-1941-42bb-f6c8-6e08f99b7324"
      },
      "execution_count": null,
      "outputs": [
        {
          "output_type": "stream",
          "name": "stdout",
          "text": [
            "1\n"
          ]
        }
      ]
    },
    {
      "cell_type": "markdown",
      "source": [
        "Comparison"
      ],
      "metadata": {
        "id": "OKxTDd2ltVBp"
      }
    },
    {
      "cell_type": "code",
      "source": [
        "a = 5\n",
        "b = 10\n",
        "\n",
        "print(a == b)    #equal to\n",
        "print(a != b)    #not equal to\n",
        "print(a < b)     #less than\n",
        "print(a > b)     # greater than\n",
        "print(a <= b)\n",
        "print(a >= b)"
      ],
      "metadata": {
        "colab": {
          "base_uri": "https://localhost:8080/"
        },
        "id": "_2C649aWtM_u",
        "outputId": "1c1c31ae-77f0-4bab-fef5-f18db38079dc"
      },
      "execution_count": null,
      "outputs": [
        {
          "output_type": "stream",
          "name": "stdout",
          "text": [
            "False\n",
            "True\n",
            "True\n",
            "False\n",
            "True\n",
            "False\n"
          ]
        }
      ]
    },
    {
      "cell_type": "markdown",
      "source": [
        "Logical"
      ],
      "metadata": {
        "id": "IdqzVaYCuZl9"
      }
    },
    {
      "cell_type": "code",
      "source": [
        "a = 10\n",
        "\n",
        "print( a>20 and a>5)\n",
        "print( a>20 or a>5)\n",
        "print(not(a>8 and a>5))"
      ],
      "metadata": {
        "colab": {
          "base_uri": "https://localhost:8080/"
        },
        "id": "cT0bsrjHuR9u",
        "outputId": "faee860c-615f-4b48-ea8f-910034b8d670"
      },
      "execution_count": null,
      "outputs": [
        {
          "output_type": "stream",
          "name": "stdout",
          "text": [
            "False\n",
            "True\n",
            "False\n"
          ]
        }
      ]
    },
    {
      "cell_type": "markdown",
      "source": [
        "Identity"
      ],
      "metadata": {
        "id": "WyNWqf8mvfKJ"
      }
    },
    {
      "cell_type": "code",
      "source": [
        "x = 5\n",
        "y = 5\n",
        "\n",
        "print(x is y)\n"
      ],
      "metadata": {
        "colab": {
          "base_uri": "https://localhost:8080/"
        },
        "id": "4RBXQ_WkvFOE",
        "outputId": "188f5809-e84f-4075-81e1-22363df56cca"
      },
      "execution_count": null,
      "outputs": [
        {
          "output_type": "stream",
          "name": "stdout",
          "text": [
            "True\n"
          ]
        }
      ]
    },
    {
      "cell_type": "code",
      "source": [
        "x =5\n",
        "y = 5\n",
        "print(x is not y)"
      ],
      "metadata": {
        "colab": {
          "base_uri": "https://localhost:8080/"
        },
        "id": "mmfsUPv_v7Qg",
        "outputId": "f5e0e8a3-d80c-431a-ff4b-27289099f4bf"
      },
      "execution_count": null,
      "outputs": [
        {
          "output_type": "stream",
          "name": "stdout",
          "text": [
            "False\n"
          ]
        }
      ]
    },
    {
      "cell_type": "code",
      "source": [
        "x = 5\n",
        "y = 10\n",
        "print(x is y)\n",
        "print(x is not y)"
      ],
      "metadata": {
        "colab": {
          "base_uri": "https://localhost:8080/"
        },
        "id": "NAj_iz2VwCSd",
        "outputId": "ca1dc006-fa53-42c4-aaae-7b4d873829f5"
      },
      "execution_count": null,
      "outputs": [
        {
          "output_type": "stream",
          "name": "stdout",
          "text": [
            "False\n",
            "True\n"
          ]
        }
      ]
    },
    {
      "cell_type": "markdown",
      "source": [
        "Membership"
      ],
      "metadata": {
        "id": "QoWeia5pwqey"
      }
    },
    {
      "cell_type": "code",
      "source": [
        "a = 4\n",
        "b = 10\n",
        "\n",
        "c = [1,2,3,4,5,6]\n",
        "\n",
        "print(a in c)\n",
        "print(b in c)"
      ],
      "metadata": {
        "colab": {
          "base_uri": "https://localhost:8080/"
        },
        "id": "w4H9koeowOba",
        "outputId": "33242fae-40f7-4512-f675-da4fc7b75148"
      },
      "execution_count": null,
      "outputs": [
        {
          "output_type": "stream",
          "name": "stdout",
          "text": [
            "True\n",
            "False\n"
          ]
        }
      ]
    },
    {
      "cell_type": "code",
      "source": [
        "a = 4\n",
        "b = 10\n",
        "\n",
        "c = [1,2,3,4,5,6]\n",
        "\n",
        "print(a not in c)\n",
        "print(b not in c)"
      ],
      "metadata": {
        "colab": {
          "base_uri": "https://localhost:8080/"
        },
        "id": "3xx8mpsCxGG7",
        "outputId": "41be9c5b-85fd-4d68-ac23-edb1f321cc09"
      },
      "execution_count": null,
      "outputs": [
        {
          "output_type": "stream",
          "name": "stdout",
          "text": [
            "False\n",
            "True\n"
          ]
        }
      ]
    },
    {
      "cell_type": "code",
      "source": [
        ""
      ],
      "metadata": {
        "id": "jXwlumjRxUKg"
      },
      "execution_count": null,
      "outputs": []
    }
  ]
}