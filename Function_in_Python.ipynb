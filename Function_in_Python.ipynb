{
  "nbformat": 4,
  "nbformat_minor": 0,
  "metadata": {
    "colab": {
      "name": "Function in Python.ipynb",
      "provenance": [],
      "authorship_tag": "ABX9TyOuN3TNLIVGjuGh8QYEGHh6",
      "include_colab_link": true
    },
    "kernelspec": {
      "name": "python3",
      "display_name": "Python 3"
    },
    "language_info": {
      "name": "python"
    }
  },
  "cells": [
    {
      "cell_type": "markdown",
      "metadata": {
        "id": "view-in-github",
        "colab_type": "text"
      },
      "source": [
        "<a href=\"https://colab.research.google.com/github/faria012/Colab/blob/main/Function_in_Python.ipynb\" target=\"_parent\"><img src=\"https://colab.research.google.com/assets/colab-badge.svg\" alt=\"Open In Colab\"/></a>"
      ]
    },
    {
      "cell_type": "code",
      "execution_count": null,
      "metadata": {
        "id": "ffr6182nNLtu"
      },
      "outputs": [],
      "source": [
        ""
      ]
    },
    {
      "cell_type": "markdown",
      "source": [
        "Function\n",
        "\n",
        "Function is a block of code that can be reused in a program"
      ],
      "metadata": {
        "id": "TlBaUg2lNQyG"
      }
    },
    {
      "cell_type": "markdown",
      "source": [
        "Factorial of a Number"
      ],
      "metadata": {
        "id": "Nt4dmO1eN_ho"
      }
    },
    {
      "cell_type": "markdown",
      "source": [
        "Factorial of 5 = 5x4x3x2x1=120"
      ],
      "metadata": {
        "id": "t8UJkX7uOZTN"
      }
    },
    {
      "cell_type": "code",
      "source": [
        "number = int(input('Enter a number to find its factorial : '))\n",
        "\n",
        "factorial = 1\n",
        "if number == 0:\n",
        "  print('The Factorial of 0 is 1 ')\n",
        "else:\n",
        "  for i in range(1, number+1):\n",
        "    factorial = factorial*i\n",
        "    print('The factorial of ',number,' is',factorial)"
      ],
      "metadata": {
        "colab": {
          "base_uri": "https://localhost:8080/"
        },
        "id": "32sIhyEpNszo",
        "outputId": "170be516-dce8-4706-94a5-46089aff7d1a"
      },
      "execution_count": null,
      "outputs": [
        {
          "output_type": "stream",
          "name": "stdout",
          "text": [
            "Enter a number to find its factorial : 10\n",
            "The factorial of  10  is 1\n",
            "The factorial of  10  is 2\n",
            "The factorial of  10  is 6\n",
            "The factorial of  10  is 24\n",
            "The factorial of  10  is 120\n",
            "The factorial of  10  is 720\n",
            "The factorial of  10  is 5040\n",
            "The factorial of  10  is 40320\n",
            "The factorial of  10  is 362880\n",
            "The factorial of  10  is 3628800\n"
          ]
        }
      ]
    },
    {
      "cell_type": "code",
      "source": [
        "def factorial_value(num):\n",
        "  factorial = 1\n",
        "  if num == 0:\n",
        "    return factorial\n",
        "  else:\n",
        "    for i in range(1, num+1):\n",
        "      factorial = factorial*i\n",
        "    return factorial"
      ],
      "metadata": {
        "id": "hy8kDzoNQSn-"
      },
      "execution_count": null,
      "outputs": []
    },
    {
      "cell_type": "code",
      "source": [
        "print(factorial_value(5))"
      ],
      "metadata": {
        "colab": {
          "base_uri": "https://localhost:8080/"
        },
        "id": "VdZcVXraWZrS",
        "outputId": "579afc0f-daa5-41f8-b77a-742539c622d4"
      },
      "execution_count": null,
      "outputs": [
        {
          "output_type": "stream",
          "name": "stdout",
          "text": [
            "120\n"
          ]
        }
      ]
    },
    {
      "cell_type": "code",
      "source": [
        "print(factorial_value(10))"
      ],
      "metadata": {
        "colab": {
          "base_uri": "https://localhost:8080/"
        },
        "id": "Ydu0AbB6W3zS",
        "outputId": "f22a0707-0586-4f55-f044-920bbdff090b"
      },
      "execution_count": null,
      "outputs": [
        {
          "output_type": "stream",
          "name": "stdout",
          "text": [
            "3628800\n"
          ]
        }
      ]
    },
    {
      "cell_type": "code",
      "source": [
        "print(factorial_value(7))"
      ],
      "metadata": {
        "colab": {
          "base_uri": "https://localhost:8080/"
        },
        "id": "-oDkTiO1W-YE",
        "outputId": "773d720a-a57d-4115-bfa8-15a65afed1c6"
      },
      "execution_count": null,
      "outputs": [
        {
          "output_type": "stream",
          "name": "stdout",
          "text": [
            "5040\n"
          ]
        }
      ]
    },
    {
      "cell_type": "code",
      "source": [
        ""
      ],
      "metadata": {
        "id": "BMl3chcBXE0T"
      },
      "execution_count": null,
      "outputs": []
    }
  ]
}