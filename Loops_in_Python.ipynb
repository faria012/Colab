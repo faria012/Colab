{
  "nbformat": 4,
  "nbformat_minor": 0,
  "metadata": {
    "colab": {
      "name": "Loops in Python.ipynb",
      "provenance": [],
      "authorship_tag": "ABX9TyOgrE5gzpyXwW1SI4jrnh8y",
      "include_colab_link": true
    },
    "kernelspec": {
      "name": "python3",
      "display_name": "Python 3"
    },
    "language_info": {
      "name": "python"
    }
  },
  "cells": [
    {
      "cell_type": "markdown",
      "metadata": {
        "id": "view-in-github",
        "colab_type": "text"
      },
      "source": [
        "<a href=\"https://colab.research.google.com/github/faria012/Colab/blob/main/Loops_in_Python.ipynb\" target=\"_parent\"><img src=\"https://colab.research.google.com/assets/colab-badge.svg\" alt=\"Open In Colab\"/></a>"
      ]
    },
    {
      "cell_type": "code",
      "execution_count": null,
      "metadata": {
        "id": "qERMICMyAyCn"
      },
      "outputs": [],
      "source": [
        ""
      ]
    },
    {
      "cell_type": "markdown",
      "source": [
        "For Loop"
      ],
      "metadata": {
        "id": "JAsFooEVAzPc"
      }
    },
    {
      "cell_type": "code",
      "source": [
        "laptop1 = int(input(\"Enter the price of Laptop :  \"))\n",
        "laptop2 = int(input(\"Enter the price of Laptop :  \"))\n",
        "laptop3 = int(input(\"Enter the price of Laptop :  \"))\n",
        "laptop4 = int(input(\"Enter the price of Laptop :  \"))\n",
        "laptop5 = int(input(\"Enter the price of Laptop :  \"))"
      ],
      "metadata": {
        "colab": {
          "base_uri": "https://localhost:8080/"
        },
        "id": "Eswfiw1VBItu",
        "outputId": "0670024e-5c5e-46c5-fc2a-6e8b4bce34cc"
      },
      "execution_count": null,
      "outputs": [
        {
          "name": "stdout",
          "output_type": "stream",
          "text": [
            "Enter the price of Laptop :  20000\n",
            "Enter the price of Laptop :  30000\n",
            "Enter the price of Laptop :  40000\n",
            "Enter the price of Laptop :  50000\n",
            "Enter the price of Laptop :  60000\n"
          ]
        }
      ]
    },
    {
      "cell_type": "code",
      "source": [
        "for i in range(5):\n",
        "  laptop_price = int(input('Enter the price of laptop : '))"
      ],
      "metadata": {
        "id": "1iXijUquBuAJ",
        "colab": {
          "base_uri": "https://localhost:8080/"
        },
        "outputId": "be3d79fd-592a-49cd-f18d-1811fdae21d0"
      },
      "execution_count": null,
      "outputs": [
        {
          "name": "stdout",
          "output_type": "stream",
          "text": [
            "Enter the price of laptop : 20\n",
            "Enter the price of laptop : 30\n",
            "Enter the price of laptop : 40\n",
            "Enter the price of laptop : 50\n",
            "Enter the price of laptop : 60\n"
          ]
        }
      ]
    },
    {
      "cell_type": "code",
      "source": [
        "numbers = [10,30,100,40,50]\n",
        "for i in numbers:\n",
        "  print(i)"
      ],
      "metadata": {
        "colab": {
          "base_uri": "https://localhost:8080/"
        },
        "id": "SCw93p2vKaFH",
        "outputId": "56994a8e-f431-4e81-b499-1c0816c3e436"
      },
      "execution_count": null,
      "outputs": [
        {
          "output_type": "stream",
          "name": "stdout",
          "text": [
            "10\n",
            "30\n",
            "100\n",
            "40\n",
            "50\n"
          ]
        }
      ]
    },
    {
      "cell_type": "code",
      "source": [
        "fruits = ['Apple','Orange','Banana','Mango']\n",
        "for i in fruits:\n",
        "  print(i)"
      ],
      "metadata": {
        "colab": {
          "base_uri": "https://localhost:8080/"
        },
        "id": "nybtOLWyLXcw",
        "outputId": "515da7a4-c4c2-4061-96ab-e66d18b208d4"
      },
      "execution_count": null,
      "outputs": [
        {
          "output_type": "stream",
          "name": "stdout",
          "text": [
            "Apple\n",
            "Orange\n",
            "Banana\n",
            "Mango\n"
          ]
        }
      ]
    },
    {
      "cell_type": "markdown",
      "source": [
        "While Loop"
      ],
      "metadata": {
        "id": "ODN-jXm6L2Hp"
      }
    },
    {
      "cell_type": "code",
      "source": [
        "i = 0\n",
        "while i<10:\n",
        "  print(i)\n",
        "  i += 1   # i = i+1"
      ],
      "metadata": {
        "colab": {
          "base_uri": "https://localhost:8080/"
        },
        "id": "H0AeADjiLucK",
        "outputId": "9b3a283f-c300-4f78-f0b1-bb4abe780926"
      },
      "execution_count": null,
      "outputs": [
        {
          "output_type": "stream",
          "name": "stdout",
          "text": [
            "0\n",
            "1\n",
            "2\n",
            "3\n",
            "4\n",
            "5\n",
            "6\n",
            "7\n",
            "8\n",
            "9\n"
          ]
        }
      ]
    },
    {
      "cell_type": "code",
      "source": [
        ""
      ],
      "metadata": {
        "id": "JcBilnCKMqNL"
      },
      "execution_count": null,
      "outputs": []
    }
  ]
}